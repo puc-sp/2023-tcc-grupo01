{
 "cells": [
  {
   "cell_type": "markdown",
   "id": "36a8ab53-237e-45e1-9679-991c62518006",
   "metadata": {},
   "source": [
    "# Testando as imagens iniciais\n",
    "\n",
    "## Usando Yolov3 e COCO dataset"
   ]
  },
  {
   "cell_type": "code",
   "execution_count": null,
   "id": "21623bf1-f911-40ce-9dd0-7e47f2c299b8",
   "metadata": {},
   "outputs": [],
   "source": [
    "# Use wget to download the YOLOv3 configuration file\n",
    "!wget https://github.com/pjreddie/darknet/blob/master/cfg/yolov3.cfg?raw=true -O yolov3.cfg\n",
    "\n",
    "# Use wget to download the YOLOv3 weights file\n",
    "!wget https://pjreddie.com/media/files/yolov3.weights\n",
    "\n",
    "# Use wget to download the coco.names file\n",
    "!wget https://github.com/pjreddie/darknet/blob/master/data/coco.names?raw=true -O coco.names"
   ]
  },
  {
   "cell_type": "code",
   "execution_count": null,
   "id": "45a6329b-6408-47c7-b87a-0b3360542f3c",
   "metadata": {},
   "outputs": [],
   "source": [
    "from google.colab.patches import cv2_imshow\n",
    "import cv2\n",
    "import numpy as np\n",
    "import os\n",
    "current_directory = os.getcwd()\n",
    "print(current_directory)"
   ]
  },
  {
   "cell_type": "code",
   "execution_count": null,
   "id": "f54602d4-01d7-45d3-a8d8-dbbc7391e9f3",
   "metadata": {},
   "outputs": [],
   "source": [
    "def detect_objects(image_path):\n",
    "    # Load YOLO\n",
    "    net = cv2.dnn.readNet(\"yolov3.weights\", \"yolov3.cfg\")  # Load pre-trained weights and configuration\n",
    "    classes = []\n",
    "    with open(\"coco.names\", \"r\") as f:\n",
    "        classes = [line.strip() for line in f.readlines()]\n",
    "\n",
    "    # Get the output layer names directly from the network\n",
    "    layer_names = net.getUnconnectedOutLayersNames()\n",
    "\n",
    "    # Load image\n",
    "    img = cv2.imread(image_path)\n",
    "    img = cv2.resize(img, None, fx=0.4, fy=0.4)  # Resize image for faster processing\n",
    "    height, width, channels = img.shape\n",
    "\n",
    "    # Detecting objects\n",
    "    blob = cv2.dnn.blobFromImage(img, 0.00392, (416, 416), (0, 0, 0), True, crop=False)\n",
    "    net.setInput(blob)\n",
    "    outs = net.forward(layer_names)\n",
    "\n",
    "    # Information to display on the image\n",
    "    class_ids = []\n",
    "    confidences = []\n",
    "    boxes = []\n",
    "    for out in outs:\n",
    "        for detection in out:\n",
    "            scores = detection[5:]\n",
    "            class_id = np.argmax(scores)\n",
    "            confidence = scores[class_id]\n",
    "            if confidence > 0.5:\n",
    "                # Object detected\n",
    "                center_x = int(detection[0] * width)\n",
    "                center_y = int(detection[1] * height)\n",
    "                w = int(detection[2] * width)\n",
    "                h = int(detection[3] * height)\n",
    "\n",
    "                # Rectangle coordinates\n",
    "                x = int(center_x - w / 2)\n",
    "                y = int(center_y - h / 2)\n",
    "\n",
    "                boxes.append([x, y, w, h])\n",
    "                confidences.append(float(confidence))\n",
    "                class_ids.append(class_id)\n",
    "\n",
    "    indexes = cv2.dnn.NMSBoxes(boxes, confidences, 0.5, 0.4)\n",
    "\n",
    "    # Draw bounding boxes and labels on the image\n",
    "    for i in range(len(boxes)):\n",
    "        if i in indexes:\n",
    "            x, y, w, h = boxes[i]\n",
    "            label = str(classes[class_ids[i]])\n",
    "            confidence = confidences[i]\n",
    "            color = (0, 255, 0)  # Green\n",
    "            cv2.rectangle(img, (x, y), (x + w, y + h), color, 2)\n",
    "            cv2.putText(img, f\"{label} {confidence:.2f}\", (x, y - 10), cv2.FONT_HERSHEY_SIMPLEX, 0.5, color, 2)\n",
    "\n",
    "    # Display the image with detected objects\n",
    "    cv2_imshow(img)\n",
    "    cv2.waitKey(0)\n",
    "    cv2.destroyAllWindows()"
   ]
  },
  {
   "cell_type": "code",
   "execution_count": null,
   "id": "6f00b8f0-47f5-43c6-9f54-cd37627bf38d",
   "metadata": {},
   "outputs": [],
   "source": [
    "def apply_detector(path):\n",
    "  for filename in os.listdir(path):\n",
    "    if filename.lower().endswith(\".png\"):\n",
    "        #image_path = os.path.join(directory_path, filename)\n",
    "        print(filename)\n",
    "        detect_objects(filename)\n"
   ]
  },
  {
   "cell_type": "code",
   "execution_count": null,
   "id": "60c08e61-97a3-47d6-a004-34b8aafa8945",
   "metadata": {},
   "outputs": [],
   "source": [
    "apply_detector('/content/')"
   ]
  }
 ],
 "metadata": {
  "kernelspec": {
   "display_name": "Python 3 (ipykernel)",
   "language": "python",
   "name": "python3"
  },
  "language_info": {
   "codemirror_mode": {
    "name": "ipython",
    "version": 3
   },
   "file_extension": ".py",
   "mimetype": "text/x-python",
   "name": "python",
   "nbconvert_exporter": "python",
   "pygments_lexer": "ipython3",
   "version": "3.10.9"
  }
 },
 "nbformat": 4,
 "nbformat_minor": 5
}
